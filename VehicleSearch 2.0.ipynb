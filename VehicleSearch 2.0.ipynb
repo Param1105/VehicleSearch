{
 "cells": [
  {
   "cell_type": "markdown",
   "id": "antique-drilling",
   "metadata": {},
   "source": [
    "# Find the cars available for sale \n",
    "\n"
   ]
  },
  {
   "cell_type": "code",
   "execution_count": null,
   "id": "diagnostic-alignment",
   "metadata": {},
   "outputs": [],
   "source": [
    "from flask import Flask, render_template, request, redirect\n",
    "from datetime import datetime\n",
    "import mysql.connector\n",
    "from mysql.connector import connect, Error"
   ]
  },
  {
   "cell_type": "code",
   "execution_count": null,
   "id": "automatic-implement",
   "metadata": {},
   "outputs": [],
   "source": [
    "connection = connect(\n",
    "    host = \"localhost\",\n",
    "    user = \"root\",\n",
    "    password = \"***********\",\n",
    "    database = \"vehiclesearch\"\n",
    "    )\n",
    "\n",
    "cursor = connection.cursor()"
   ]
  },
  {
   "cell_type": "code",
   "execution_count": null,
   "id": "crazy-waters",
   "metadata": {},
   "outputs": [],
   "source": [
    "def getvehicles(cursor,zipcode,miles):\n",
    "    \n",
    "    stmt1 = \"Select latitude, longitude from zipinfo where zipcode =\" + str(zipcode)\n",
    "    cursor.execute(stmt1)\n",
    "    res1 = cursor.fetchall()\n",
    "    \n",
    "    # Coordinates of entered zipcode\n",
    "    try:\n",
    "        lat = res1[0][0]\n",
    "        lon = res1[0][1]\n",
    "    except:\n",
    "        return \"null\"\n",
    "    \n",
    "    distance = \"( 3959 * acos( cos( radians( \" + str(lat) + \") ) * cos( radians( zf.latitude ) )* cos( radians( zf.longitude ) - radians(\"+ str(lon) + \") ) + sin( radians(\" + str(lat) + \") ) * sin(radians(zf.latitude)) ) ) AS distance\"\n",
    "    \n",
    "    stmt3 = \"\"\"SELECT ls.year as year, ls.make as make, ls.model as model, ls.price as price, dlr.dealername as dealername,\n",
    "            zf.city as city, zf.state as state, ls.zip as zipcode,\"\"\" + distance +\"\"\"\n",
    "            From listings ls LEFT JOIN zipinfo zf on ls.zip = zf.zipcode \n",
    "            LEFT JOIN dealers dlr on ls.dealer_number = dlr.dealernumber\"\"\"\n",
    "    \n",
    "    final_stmt = \"\"\"Select ft.year, ft.make, model, ft.price, ft.dealername, ft.city, ft.state, ft.zipcode FROM (\"\"\" + stmt3 + \"\"\") as ft\n",
    "                WHERE ft.distance <=\"\"\"+ str(miles) + \"\"\" ORDER BY distance\"\"\"\n",
    "    \n",
    "    cursor.execute(final_stmt)\n",
    "    \n",
    "    data = cursor.fetchall()\n",
    "    \n",
    "    return data"
   ]
  },
  {
   "cell_type": "code",
   "execution_count": null,
   "id": "requested-sewing",
   "metadata": {},
   "outputs": [],
   "source": [
    "app = Flask(__name__)"
   ]
  },
  {
   "cell_type": "code",
   "execution_count": null,
   "id": "premier-delicious",
   "metadata": {},
   "outputs": [],
   "source": [
    "@app.route('/', methods=['GET', 'POST'])\n",
    "def Search():\n",
    "    \n",
    "    if request.method=='POST':\n",
    "        zipcode = request.form['zipcode']\n",
    "        miles = float(request.form['miles'])\n",
    "        \n",
    "        data = getvehicles(cursor,zipcode,miles)\n",
    "        \n",
    "        if data == \"null\":\n",
    "            return render_template('invalid.html')\n",
    "        \n",
    "        return render_template('index.html',data=data)\n",
    "        \n",
    "    return render_template('index.html')\n",
    "    "
   ]
  },
  {
   "cell_type": "code",
   "execution_count": null,
   "id": "romance-ozone",
   "metadata": {},
   "outputs": [],
   "source": [
    "if __name__ == '__main__':\n",
    "    app.run()"
   ]
  }
 ],
 "metadata": {
  "kernelspec": {
   "display_name": "Python 3",
   "language": "python",
   "name": "python3"
  },
  "language_info": {
   "codemirror_mode": {
    "name": "ipython",
    "version": 3
   },
   "file_extension": ".py",
   "mimetype": "text/x-python",
   "name": "python",
   "nbconvert_exporter": "python",
   "pygments_lexer": "ipython3",
   "version": "3.7.4"
  }
 },
 "nbformat": 4,
 "nbformat_minor": 5
}
